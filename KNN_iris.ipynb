{
 "cells": [
  {
   "cell_type": "markdown",
   "id": "fd921904-98ec-4e17-a8d7-a2fa77a07ff2",
   "metadata": {},
   "source": [
    "# 지도 학습\n",
    "## K-최근접 이웃(K-nearest neighbor, KNN)\n",
    "  \n",
    "###### 2023-12-20 KH.LIM @Cheongju\n",
    "###### 딥러닝 파이토치 교과서 참조"
   ]
  },
  {
   "cell_type": "markdown",
   "id": "28825976-cb69-47bf-b1cf-39bb36842bc5",
   "metadata": {},
   "source": [
    "K-최근접 이웃은 데이터를 분류할 때 사용  \n",
    "직관적이며 사용하기 쉽다. 또한 훈련 데이터를 충분히 확보할 수 있는 환경에서 사용하기 적합"
   ]
  },
  {
   "cell_type": "markdown",
   "id": "caa2d7bd-3b51-4e0b-b7e8-f78bfe753e25",
   "metadata": {},
   "source": [
    "학숩에 사용되지 않은 새로운 데이터를 받았을 때 기존 클러스터에서 모든 데이터와 인스턴스(데이터와 데이터 사이의 거리를 측정한 관측치) 기반 거리를 측정한 후 가장 많은 속성을 가진 클러스터에 할당  \n",
    "과거 데이터를 저장해 두고 필요할 때마다 비교를 수행하는 방식  \n",
    "따라서 K값의 선택에 따라 분류 결과가 달라질 수 있다. (K값은 판단을 위한 인접 데이터의 갯수)  \n",
    "[외부참조 링크](https://thebook.io/080289/0094/)"
   ]
  },
  {
   "cell_type": "markdown",
   "id": "ae79c823-c232-4832-ba28-0b78aa588360",
   "metadata": {},
   "source": [
    "붓꽃 분류 문제, 심층 신경망 필요 없음. 사이킷런(scikit-learn)이용"
   ]
  },
  {
   "cell_type": "code",
   "execution_count": 6,
   "id": "7c1cd7fa-86f7-41aa-b4cc-739ad25c680c",
   "metadata": {},
   "outputs": [],
   "source": [
    "import numpy as np               # 벡터 및 행렬의 연산\n",
    "import matplotlib.pyplot as plt        # 차트나 플롯 그리기\n",
    "import pandas as pd             # 데이터 분석 및 조작\n",
    "from sklearn import metrics      # 모델 성능평가\n",
    "names = ['sepal-length', 'sepal-width', 'petal-length', 'petal-width', 'Class']       #데이터셋 열 이름 할당\n",
    "dataset = pd.read_csv('../ML01_KnearestNeighbor/iris.data', names=names)"
   ]
  },
  {
   "cell_type": "markdown",
   "id": "618f2265-622f-430b-8eee-99955e1ec6c7",
   "metadata": {},
   "source": [
    "#### 데이터셋 분리 및 정규화"
   ]
  },
  {
   "cell_type": "code",
   "execution_count": 8,
   "id": "b47b9bb1-f08f-43e6-997e-ea8e1251554a",
   "metadata": {},
   "outputs": [],
   "source": [
    "X = dataset.iloc[:, :-1].values   # 모든 행 사용, 열은 뒤에서 1개 뺀 값 사용\n",
    "y = dataset.iloc[:, 4].values      # 모든 행 사용, 열은 5번째 열 y에 저장\n",
    "\n",
    "from sklearn.model_selection import train_test_split\n",
    "X_train, X_test, y_train, y_test = train_test_split(X, y, test_size=0.20)    #훈련과 테스트셋 분리, 비율 20%\n",
    "\n",
    "from sklearn.preprocessing import StandardScaler\n",
    "s = StandardScaler()     # 특성 정규화(스케일링), 평균0 표준1이 되도록\n",
    "\n",
    "X_train = s.fit_transform(X_train)    #훈련데이타 정규화\n",
    "X_test = s.fit_transform(X_test)      #테스트 데이타 정규화"
   ]
  },
  {
   "cell_type": "markdown",
   "id": "96ad83cc-3387-42e7-97d2-19a09ffab764",
   "metadata": {},
   "source": [
    "#### 모델 생성 및 훈련"
   ]
  },
  {
   "cell_type": "code",
   "execution_count": 10,
   "id": "b448fd8f-8c79-4490-9ec1-4429e16fe5b4",
   "metadata": {},
   "outputs": [
    {
     "data": {
      "text/html": [
       "<style>#sk-container-id-2 {color: black;background-color: white;}#sk-container-id-2 pre{padding: 0;}#sk-container-id-2 div.sk-toggleable {background-color: white;}#sk-container-id-2 label.sk-toggleable__label {cursor: pointer;display: block;width: 100%;margin-bottom: 0;padding: 0.3em;box-sizing: border-box;text-align: center;}#sk-container-id-2 label.sk-toggleable__label-arrow:before {content: \"▸\";float: left;margin-right: 0.25em;color: #696969;}#sk-container-id-2 label.sk-toggleable__label-arrow:hover:before {color: black;}#sk-container-id-2 div.sk-estimator:hover label.sk-toggleable__label-arrow:before {color: black;}#sk-container-id-2 div.sk-toggleable__content {max-height: 0;max-width: 0;overflow: hidden;text-align: left;background-color: #f0f8ff;}#sk-container-id-2 div.sk-toggleable__content pre {margin: 0.2em;color: black;border-radius: 0.25em;background-color: #f0f8ff;}#sk-container-id-2 input.sk-toggleable__control:checked~div.sk-toggleable__content {max-height: 200px;max-width: 100%;overflow: auto;}#sk-container-id-2 input.sk-toggleable__control:checked~label.sk-toggleable__label-arrow:before {content: \"▾\";}#sk-container-id-2 div.sk-estimator input.sk-toggleable__control:checked~label.sk-toggleable__label {background-color: #d4ebff;}#sk-container-id-2 div.sk-label input.sk-toggleable__control:checked~label.sk-toggleable__label {background-color: #d4ebff;}#sk-container-id-2 input.sk-hidden--visually {border: 0;clip: rect(1px 1px 1px 1px);clip: rect(1px, 1px, 1px, 1px);height: 1px;margin: -1px;overflow: hidden;padding: 0;position: absolute;width: 1px;}#sk-container-id-2 div.sk-estimator {font-family: monospace;background-color: #f0f8ff;border: 1px dotted black;border-radius: 0.25em;box-sizing: border-box;margin-bottom: 0.5em;}#sk-container-id-2 div.sk-estimator:hover {background-color: #d4ebff;}#sk-container-id-2 div.sk-parallel-item::after {content: \"\";width: 100%;border-bottom: 1px solid gray;flex-grow: 1;}#sk-container-id-2 div.sk-label:hover label.sk-toggleable__label {background-color: #d4ebff;}#sk-container-id-2 div.sk-serial::before {content: \"\";position: absolute;border-left: 1px solid gray;box-sizing: border-box;top: 0;bottom: 0;left: 50%;z-index: 0;}#sk-container-id-2 div.sk-serial {display: flex;flex-direction: column;align-items: center;background-color: white;padding-right: 0.2em;padding-left: 0.2em;position: relative;}#sk-container-id-2 div.sk-item {position: relative;z-index: 1;}#sk-container-id-2 div.sk-parallel {display: flex;align-items: stretch;justify-content: center;background-color: white;position: relative;}#sk-container-id-2 div.sk-item::before, #sk-container-id-2 div.sk-parallel-item::before {content: \"\";position: absolute;border-left: 1px solid gray;box-sizing: border-box;top: 0;bottom: 0;left: 50%;z-index: -1;}#sk-container-id-2 div.sk-parallel-item {display: flex;flex-direction: column;z-index: 1;position: relative;background-color: white;}#sk-container-id-2 div.sk-parallel-item:first-child::after {align-self: flex-end;width: 50%;}#sk-container-id-2 div.sk-parallel-item:last-child::after {align-self: flex-start;width: 50%;}#sk-container-id-2 div.sk-parallel-item:only-child::after {width: 0;}#sk-container-id-2 div.sk-dashed-wrapped {border: 1px dashed gray;margin: 0 0.4em 0.5em 0.4em;box-sizing: border-box;padding-bottom: 0.4em;background-color: white;}#sk-container-id-2 div.sk-label label {font-family: monospace;font-weight: bold;display: inline-block;line-height: 1.2em;}#sk-container-id-2 div.sk-label-container {text-align: center;}#sk-container-id-2 div.sk-container {/* jupyter's `normalize.less` sets `[hidden] { display: none; }` but bootstrap.min.css set `[hidden] { display: none !important; }` so we also need the `!important` here to be able to override the default hidden behavior on the sphinx rendered scikit-learn.org. See: https://github.com/scikit-learn/scikit-learn/issues/21755 */display: inline-block !important;position: relative;}#sk-container-id-2 div.sk-text-repr-fallback {display: none;}</style><div id=\"sk-container-id-2\" class=\"sk-top-container\"><div class=\"sk-text-repr-fallback\"><pre>KNeighborsClassifier(n_neighbors=50)</pre><b>In a Jupyter environment, please rerun this cell to show the HTML representation or trust the notebook. <br />On GitHub, the HTML representation is unable to render, please try loading this page with nbviewer.org.</b></div><div class=\"sk-container\" hidden><div class=\"sk-item\"><div class=\"sk-estimator sk-toggleable\"><input class=\"sk-toggleable__control sk-hidden--visually\" id=\"sk-estimator-id-2\" type=\"checkbox\" checked><label for=\"sk-estimator-id-2\" class=\"sk-toggleable__label sk-toggleable__label-arrow\">KNeighborsClassifier</label><div class=\"sk-toggleable__content\"><pre>KNeighborsClassifier(n_neighbors=50)</pre></div></div></div></div></div>"
      ],
      "text/plain": [
       "KNeighborsClassifier(n_neighbors=50)"
      ]
     },
     "execution_count": 10,
     "metadata": {},
     "output_type": "execute_result"
    }
   ],
   "source": [
    "from sklearn.neighbors import KNeighborsClassifier\n",
    "knn = KNeighborsClassifier(n_neighbors=50)    # K=50 인 K-최근접 이웃 모델 생성\n",
    "knn.fit(X_train, y_train)"
   ]
  },
  {
   "cell_type": "markdown",
   "id": "66e0e94b-bbd7-4339-8a84-d25fc0981299",
   "metadata": {},
   "source": [
    "#### 모델 정확도 측정"
   ]
  },
  {
   "cell_type": "code",
   "execution_count": 11,
   "id": "87770841-62ea-40dd-935a-c6cf6d2814d8",
   "metadata": {},
   "outputs": [
    {
     "name": "stdout",
     "output_type": "stream",
     "text": [
      "정확도: 0.8333333333333334\n"
     ]
    }
   ],
   "source": [
    "from sklearn.metrics import accuracy_score\n",
    "y_pred = knn.predict(X_test)\n",
    "print(\"정확도: {}\".format( accuracy_score(y_test, y_pred)))"
   ]
  },
  {
   "cell_type": "markdown",
   "id": "842f51e9-35ac-4d22-91b3-801a57b21a10",
   "metadata": {},
   "source": [
    "#### 최적의 K값 찾기  \n",
    "for 문을 이용하여 K값을 1부터 10까지 순환하면서 최적의 K값과 정확도 찾기"
   ]
  },
  {
   "cell_type": "code",
   "execution_count": 12,
   "id": "0a749e83-4642-4789-b0b0-93c3b2f1188e",
   "metadata": {},
   "outputs": [
    {
     "name": "stdout",
     "output_type": "stream",
     "text": [
      "정확도  0.9666666666666667 으로 최적의 k는 6 입니다.\n"
     ]
    }
   ],
   "source": [
    "k=10\n",
    "acc_array=np.zeros(k)    # 각 k 값에 따른 정확도를 저장할 배열\n",
    "\n",
    "for k in np.arange(1,k+1,1):   \n",
    "    classifier = KNeighborsClassifier(n_neighbors=k).fit(X_train,y_train)         # 현재 k 값을 사용하여 KNN 분류기를 학습합니다.\n",
    "    y_pred = classifier.predict(X_test)        # 테스트 데이터를 사용하여 예측합니다.\n",
    "    acc = metrics.accuracy_score(y_test, y_pred)         # 정확도를 계산하고 acc_array에 저장합니다.\n",
    "    acc_array[k-1]=acc \n",
    "\n",
    "# 최대 정확도와 해당하는 최적의 k 값을 찾습니다.\n",
    "max_acc=np.amax(acc_array)     \n",
    "acc_list=list(acc_array)\n",
    "k=acc_list.index(max_acc)\n",
    "print(\"정확도 \", max_acc, \"으로 최적의 k는\", k+1, \"입니다.\")"
   ]
  },
  {
   "cell_type": "code",
   "execution_count": null,
   "id": "b4c04687-44de-472f-be86-9bbccbf0b93f",
   "metadata": {},
   "outputs": [],
   "source": []
  }
 ],
 "metadata": {
  "kernelspec": {
   "display_name": "ve_torch_kernel",
   "language": "python",
   "name": "ve_torch"
  },
  "language_info": {
   "codemirror_mode": {
    "name": "ipython",
    "version": 3
   },
   "file_extension": ".py",
   "mimetype": "text/x-python",
   "name": "python",
   "nbconvert_exporter": "python",
   "pygments_lexer": "ipython3",
   "version": "3.10.11"
  }
 },
 "nbformat": 4,
 "nbformat_minor": 5
}
